{
  "nbformat": 4,
  "nbformat_minor": 0,
  "metadata": {
    "colab": {
      "provenance": [],
      "authorship_tag": "ABX9TyPE7zpuYvPN23bIeF2ChGqm",
      "include_colab_link": true
    },
    "kernelspec": {
      "name": "python3",
      "display_name": "Python 3"
    },
    "language_info": {
      "name": "python"
    }
  },
  "cells": [
    {
      "cell_type": "markdown",
      "metadata": {
        "id": "view-in-github",
        "colab_type": "text"
      },
      "source": [
        "<a href=\"https://colab.research.google.com/github/sademmhamdi/GoMyCode/blob/main/BS.ipynb\" target=\"_parent\"><img src=\"https://colab.research.google.com/assets/colab-badge.svg\" alt=\"Open In Colab\"/></a>"
      ]
    },
    {
      "cell_type": "code",
      "execution_count": 5,
      "metadata": {
        "colab": {
          "base_uri": "https://localhost:8080/"
        },
        "id": "YzROeRo91DAt",
        "outputId": "91a1b2b0-5b91-4a56-d2aa-749d10eb3398"
      },
      "outputs": [
        {
          "output_type": "stream",
          "name": "stdout",
          "text": [
            "3\n"
          ]
        }
      ],
      "source": [
        "c1 = [1, 2, 3, 4, 5]\n",
        "x = len(c1)\n",
        "p = x / 2\n",
        "t = round(p)\n",
        "print(c1[t])\n"
      ]
    },
    {
      "cell_type": "code",
      "source": [
        "c2 = [6,8,9,10]\n",
        "x = len(c2)\n",
        "p = int((x / 2) - 1)\n",
        "print(c2[p])\n",
        "\n"
      ],
      "metadata": {
        "colab": {
          "base_uri": "https://localhost:8080/"
        },
        "id": "NM4Eum3U5CQS",
        "outputId": "72aa82a2-d86b-4f48-afb3-efdff01b99df"
      },
      "execution_count": 9,
      "outputs": [
        {
          "output_type": "stream",
          "name": "stdout",
          "text": [
            "8\n"
          ]
        }
      ]
    },
    {
      "cell_type": "code",
      "source": [
        "def test (t):\n",
        "  x = len(t)\n",
        "  if x % 2 != 0:\n",
        "    f = round(x / 2)\n",
        "    return f\n",
        "  else :\n",
        "    f = int((x / 2) - 1)\n",
        "    return f\n",
        "test(c1)\n",
        "test(c2)\n"
      ],
      "metadata": {
        "colab": {
          "base_uri": "https://localhost:8080/"
        },
        "id": "cDHqa6LS6EtT",
        "outputId": "abb7dcf7-0c57-4f1f-ac98-660012dd2ed2"
      },
      "execution_count": 16,
      "outputs": [
        {
          "output_type": "execute_result",
          "data": {
            "text/plain": [
              "1"
            ]
          },
          "metadata": {},
          "execution_count": 16
        }
      ]
    },
    {
      "cell_type": "code",
      "source": [
        "print(c1[test(c1)])\n",
        "y = 4\n",
        "if y > c1[test(c1)]:\n",
        "  c3 = c1[test(c1):len(c1)]\n",
        "else:\n",
        "   y < c1[test(c1)]\n",
        "   c3 = c1[0:test(c1) + 1]\n",
        "print(c3)\n"
      ],
      "metadata": {
        "colab": {
          "base_uri": "https://localhost:8080/"
        },
        "id": "DwHUBkma75Qb",
        "outputId": "71a3b930-8eb3-468b-a888-33bf3869ea96"
      },
      "execution_count": 32,
      "outputs": [
        {
          "output_type": "stream",
          "name": "stdout",
          "text": [
            "3\n",
            "[3, 4, 5]\n"
          ]
        }
      ]
    }
  ]
}