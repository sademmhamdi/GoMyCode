{
  "nbformat": 4,
  "nbformat_minor": 0,
  "metadata": {
    "colab": {
      "provenance": [],
      "authorship_tag": "ABX9TyM4d/FDGQ9Zmmi6oogOJRmS",
      "include_colab_link": true
    },
    "kernelspec": {
      "name": "python3",
      "display_name": "Python 3"
    },
    "language_info": {
      "name": "python"
    }
  },
  "cells": [
    {
      "cell_type": "markdown",
      "metadata": {
        "id": "view-in-github",
        "colab_type": "text"
      },
      "source": [
        "<a href=\"https://colab.research.google.com/github/sademmhamdi/GoMyCode/blob/main/File_Handling.ipynb\" target=\"_parent\"><img src=\"https://colab.research.google.com/assets/colab-badge.svg\" alt=\"Open In Colab\"/></a>"
      ]
    },
    {
      "cell_type": "code",
      "execution_count": 2,
      "metadata": {
        "colab": {
          "base_uri": "https://localhost:8080/"
        },
        "id": "mqWJwTi3Tt4o",
        "outputId": "8f2e33cc-1eda-4f25-9da6-3335278b5edf"
      },
      "outputs": [
        {
          "output_type": "stream",
          "name": "stdout",
          "text": [
            "Enter the path to the text file: file\n",
            "\n",
            "File Content:\n",
            "\n",
            "File not found.\n"
          ]
        }
      ],
      "source": [
        "def read_text_file(filename):\n",
        "    try:\n",
        "        with open(filename, 'r') as file:\n",
        "            content = file.read()\n",
        "            return content\n",
        "    except FileNotFoundError:\n",
        "        return \"File not found.\"\n",
        "    except Exception as e:\n",
        "        return f\"An error occurred: {e}\"\n",
        "\n",
        "if __name__ == \"__main__\":\n",
        "    file_name = input(\"Enter the path to the text file: \")\n",
        "    file_content = read_text_file(file_name)\n",
        "\n",
        "    print(\"\\nFile Content:\\n\")\n",
        "    print(file_content)\n"
      ]
    },
    {
      "cell_type": "code",
      "source": [
        "def read_first_n_lines(filename, n):\n",
        "    try:\n",
        "        with open(filename, 'r') as file:\n",
        "            lines = file.readline()\n",
        "            return(content.read_first_n_lines)\n",
        "    except FileNotFoundError:\n",
        "        print(\"File not found.\")\n",
        "    except Exception as e:\n",
        "        print(f\"An error occurred: {e}\")\n",
        "\n",
        "if __name__ == \"__main__\":\n",
        "    file_name = input(\"Enter the path to the text file: \")\n",
        "    num_lines = int(input(\"Enter the number of lines to read: \"))\n",
        "\n",
        "    print(f\"\\nFirst {num_lines} lines of the file:\\n\")\n",
        "    read_first_n_lines(file_name, num_lines)\n"
      ],
      "metadata": {
        "colab": {
          "base_uri": "https://localhost:8080/"
        },
        "id": "huihdDfFUmuv",
        "outputId": "6b36bc6c-29ef-4047-f453-50f6d9814b05"
      },
      "execution_count": 4,
      "outputs": [
        {
          "output_type": "stream",
          "name": "stdout",
          "text": [
            "Enter the path to the text file: file\n",
            "Enter the number of lines to read: 1\n",
            "\n",
            "First 1 lines of the file:\n",
            "\n",
            "File not found.\n"
          ]
        }
      ]
    },
    {
      "cell_type": "code",
      "source": [
        "def read_last_n_lines(filename, n):\n",
        "    try:\n",
        "        with open(filename, 'r') as file:\n",
        "            lines = file.readlines()\n",
        "            last_n_lines = lines[-n:]\n",
        "            for line in last_n_lines:\n",
        "                print(line.strip())\n",
        "    except FileNotFoundError:\n",
        "        print(\"File not found.\")\n",
        "    except Exception as e:\n",
        "        print(f\"An error occurred: {e}\")\n",
        "\n",
        "if __name__ == \"__main__\":\n",
        "    file_name = input(\"Enter the path to the text file: \")\n",
        "    num_lines = int(input(\"Enter the number of lines to read from the end: \"))\n",
        "\n",
        "    print(f\"\\nLast {num_lines} lines of the file:\\n\")\n",
        "    read_last_n_lines(file_name, num_lines)\n"
      ],
      "metadata": {
        "colab": {
          "base_uri": "https://localhost:8080/"
        },
        "id": "D1hY8lz7Wtj1",
        "outputId": "4419026d-78fa-435b-8883-ca2155823270"
      },
      "execution_count": 5,
      "outputs": [
        {
          "output_type": "stream",
          "name": "stdout",
          "text": [
            "Enter the path to the text file: file\n",
            "Enter the number of lines to read from the end: 13\n",
            "\n",
            "Last 13 lines of the file:\n",
            "\n",
            "File not found.\n"
          ]
        }
      ]
    },
    {
      "cell_type": "code",
      "source": [
        "def count_words(filename):\n",
        "    try:\n",
        "        with open(filename, 'r') as file:\n",
        "            content = file.read()\n",
        "            words = content.split()\n",
        "            return len(words)\n",
        "    except FileNotFoundError:\n",
        "        return \"File not found.\"\n",
        "    except Exception as e:\n",
        "        return f\"An error occurred: {e}\"\n",
        "\n",
        "if __name__ == \"__main__\":\n",
        "    file_name = input(\"Enter the path to the text file: \")\n",
        "    word_count = count_words(file_name)\n",
        "\n",
        "    if isinstance(word_count, int):\n",
        "        print(f\"The file contains {word_count} words.\")\n",
        "    else:\n",
        "        print(word_count)\n"
      ],
      "metadata": {
        "colab": {
          "base_uri": "https://localhost:8080/"
        },
        "id": "vrr6xE13W0w2",
        "outputId": "78849ac7-8765-48cc-efbd-1954b2ada8ae"
      },
      "execution_count": 6,
      "outputs": [
        {
          "output_type": "stream",
          "name": "stdout",
          "text": [
            "Enter the path to the text file: /file\n",
            "File not found.\n"
          ]
        }
      ]
    }
  ]
}