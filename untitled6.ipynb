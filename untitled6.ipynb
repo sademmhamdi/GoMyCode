{
  "nbformat": 4,
  "nbformat_minor": 0,
  "metadata": {
    "colab": {
      "provenance": [],
      "authorship_tag": "ABX9TyMvYboeY2/xasIYFyoBMWST",
      "include_colab_link": true
    },
    "kernelspec": {
      "name": "python3",
      "display_name": "Python 3"
    },
    "language_info": {
      "name": "python"
    }
  },
  "cells": [
    {
      "cell_type": "markdown",
      "metadata": {
        "id": "view-in-github",
        "colab_type": "text"
      },
      "source": [
        "<a href=\"https://colab.research.google.com/github/sademmhamdi/GoMyCode/blob/main/untitled6.ipynb\" target=\"_parent\"><img src=\"https://colab.research.google.com/assets/colab-badge.svg\" alt=\"Open In Colab\"/></a>"
      ]
    },
    {
      "cell_type": "code",
      "execution_count": null,
      "metadata": {
        "colab": {
          "base_uri": "https://localhost:8080/"
        },
        "id": "p09b-YrmftNe",
        "outputId": "8a304124-3417-4bce-f7a6-268bede04ccd"
      },
      "outputs": [
        {
          "output_type": "stream",
          "name": "stdout",
          "text": [
            "Enter the number of students: 2\n",
            "Enter the number of subjects: 3\n",
            "\n",
            "Enter marks for Student 1:\n",
            "Subject 1: 12\n",
            "Subject 2: 13\n",
            "Subject 3: 14\n",
            "\n",
            "Enter marks for Student 2:\n",
            "Subject 1: 43\n",
            "Subject 2: 34\n",
            "Subject 3: 56\n",
            "\n",
            "Results:\n",
            "Student    Total Marks  Percentage Grade\n",
            "Student 1  39           13.00      F    \n",
            "Student 2  133          44.33      F    \n"
          ]
        }
      ],
      "source": [
        "import numpy as np\n",
        "\n",
        "def calculate_grade(percentage):\n",
        "    if percentage >= 90:\n",
        "        return 'A+'\n",
        "    elif percentage >= 80:\n",
        "        return 'A'\n",
        "    elif percentage >= 70:\n",
        "        return 'B+'\n",
        "    elif percentage >= 60:\n",
        "        return 'B'\n",
        "    elif percentage >= 50:\n",
        "        return 'C'\n",
        "    else:\n",
        "        return 'F'\n",
        "\n",
        "def main():\n",
        "    num_students = int(input(\"Enter the number of students: \"))\n",
        "    num_subjects = int(input(\"Enter the number of subjects: \"))\n",
        "\n",
        "    marks_array = np.zeros((num_students, num_subjects))\n",
        "\n",
        "    for i in range(num_students):\n",
        "        print(f\"\\nEnter marks for Student {i + 1}:\")\n",
        "        for j in range(num_subjects):\n",
        "            marks = float(input(f\"Subject {j + 1}: \"))\n",
        "            marks_array[i, j] = marks\n",
        "\n",
        "    total_marks = np.sum(marks_array, axis=1)\n",
        "    percentages = (total_marks / (num_subjects * 100)) * 100\n",
        "\n",
        "    print(\"\\nResults:\")\n",
        "    print(\"{:<10} {:<12} {:<10} {:<5}\".format(\"Student\", \"Total Marks\", \"Percentage\", \"Grade\"))\n",
        "    for i in range(num_students):\n",
        "        grade = calculate_grade(percentages[i])\n",
        "        print(\"{:<10} {:<12} {:<10.2f} {:<5}\".format(f\"Student {i + 1}\", int(total_marks[i]), percentages[i], grade))\n",
        "\n",
        "if __name__ == \"__main__\":\n",
        "    main()\n"
      ]
    }
  ]
}