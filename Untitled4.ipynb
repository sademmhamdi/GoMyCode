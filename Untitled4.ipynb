{
  "nbformat": 4,
  "nbformat_minor": 0,
  "metadata": {
    "colab": {
      "provenance": [],
      "authorship_tag": "ABX9TyMtYjuxlZylY3JvTyiS433H",
      "include_colab_link": true
    },
    "kernelspec": {
      "name": "python3",
      "display_name": "Python 3"
    },
    "language_info": {
      "name": "python"
    }
  },
  "cells": [
    {
      "cell_type": "markdown",
      "metadata": {
        "id": "view-in-github",
        "colab_type": "text"
      },
      "source": [
        "<a href=\"https://colab.research.google.com/github/sademmhamdi/GoMyCode/blob/main/Untitled4.ipynb\" target=\"_parent\"><img src=\"https://colab.research.google.com/assets/colab-badge.svg\" alt=\"Open In Colab\"/></a>"
      ]
    },
    {
      "cell_type": "code",
      "execution_count": 1,
      "metadata": {
        "colab": {
          "base_uri": "https://localhost:8080/"
        },
        "id": "VezAD5_-hNIp",
        "outputId": "4c0e0692-5e40-4717-c196-0bf414d8756a"
      },
      "outputs": [
        {
          "name": "stdout",
          "output_type": "stream",
          "text": [
            "Enter the first number: 10\n",
            "Enter the second number: 5\n",
            "Enter the operator (+, -, *, /) or 'exit' to quit: *\n",
            "The result is: 50.0\n",
            "Enter the operator (+, -, *, /) or 'exit' to quit: exit\n"
          ]
        }
      ],
      "source": [
        "def calculator(num1, num2):\n",
        "    while True:\n",
        "        operator = input(\"Enter the operator (+, -, *, /) or 'exit' to quit: \")\n",
        "\n",
        "        if operator == 'exit':\n",
        "            break\n",
        "\n",
        "        if operator not in ['+', '-', '*', '/']:\n",
        "            print(\"Invalid operator! Please try again.\")\n",
        "            continue\n",
        "\n",
        "        try:\n",
        "            if operator == '+':\n",
        "                result = num1 + num2\n",
        "            elif operator == '-':\n",
        "                result = num1 - num2\n",
        "            elif operator == '*':\n",
        "                result = num1 * num2\n",
        "            else:\n",
        "                # Handle division by zero\n",
        "                if num2 == 0:\n",
        "                    print(\"Error: Division by zero is not allowed.\")\n",
        "                    continue\n",
        "                result = num1 / num2\n",
        "\n",
        "            print(\"The result is:\", result)\n",
        "        except Exception as e:\n",
        "            print(\"An error occurred:\", e)\n",
        "\n",
        "\n",
        "if __name__ == \"__main__\":\n",
        "    try:\n",
        "        num1 = float(input(\"Enter the first number: \"))\n",
        "        num2 = float(input(\"Enter the second number: \"))\n",
        "        calculator(num1, num2)\n",
        "    except ValueError:\n",
        "        print(\"Invalid input! Please enter valid numbers.\")\n"
      ]
    }
  ]
}