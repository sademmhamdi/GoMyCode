{
  "nbformat": 4,
  "nbformat_minor": 0,
  "metadata": {
    "colab": {
      "provenance": [],
      "authorship_tag": "ABX9TyOswYFZ8ostykV3pB1DX0G9",
      "include_colab_link": true
    },
    "kernelspec": {
      "name": "python3",
      "display_name": "Python 3"
    },
    "language_info": {
      "name": "python"
    }
  },
  "cells": [
    {
      "cell_type": "markdown",
      "metadata": {
        "id": "view-in-github",
        "colab_type": "text"
      },
      "source": [
        "<a href=\"https://colab.research.google.com/github/sademmhamdi/GoMyCode/blob/main/Untitled1.ipynb\" target=\"_parent\"><img src=\"https://colab.research.google.com/assets/colab-badge.svg\" alt=\"Open In Colab\"/></a>"
      ]
    },
    {
      "cell_type": "code",
      "execution_count": 1,
      "metadata": {
        "colab": {
          "base_uri": "https://localhost:8080/"
        },
        "id": "hnpF-sDQ0eWZ",
        "outputId": "4deefd0c-d004-4bb0-e255-2145d06cf784"
      },
      "outputs": [
        {
          "output_type": "stream",
          "name": "stdout",
          "text": [
            "Result = 36\n"
          ]
        }
      ],
      "source": [
        "def multiply_list_items(lst):\n",
        "    result = 1\n",
        "    for item in lst:\n",
        "        result *= item\n",
        "    return result\n",
        "\n",
        "sample_list = [2, 3, 6]\n",
        "result = multiply_list_items(sample_list)\n",
        "print(\"Result =\", result)\n"
      ]
    },
    {
      "cell_type": "code",
      "source": [
        "def sort_by_last_element(tuples_list):\n",
        "    tuples_list.sort(key=lambda x: x[-1])\n",
        "    return tuples_list\n",
        "\n",
        "sample_list = [(2, 5), (1, 2), (4, 4), (2, 3), (2, 1)]\n",
        "result = sort_by_last_element(sample_list)\n",
        "print(\"Expected result:\", result)\n"
      ],
      "metadata": {
        "colab": {
          "base_uri": "https://localhost:8080/"
        },
        "id": "Rg8v_TaM01kD",
        "outputId": "1109e519-283f-41cb-fde6-e8b1de5fbc2a"
      },
      "execution_count": 2,
      "outputs": [
        {
          "output_type": "stream",
          "name": "stdout",
          "text": [
            "Expected result: [(2, 1), (1, 2), (2, 3), (4, 4), (2, 5)]\n"
          ]
        }
      ]
    },
    {
      "cell_type": "code",
      "source": [
        "def combine_dictionaries(d1, d2):\n",
        "    combined_dict = {}\n",
        "\n",
        "    # Process dictionary d1\n",
        "    for key, value in d1.items():\n",
        "        combined_dict[key] = value + combined_dict.get(key, 0)\n",
        "\n",
        "    # Process dictionary d2\n",
        "    for key, value in d2.items():\n",
        "        combined_dict[key] = value + combined_dict.get(key, 0)\n",
        "\n",
        "    return combined_dict\n",
        "\n",
        "d1 = {'a': 100, 'b': 200, 'c': 300}\n",
        "d2 = {'a': 300, 'b': 200, 'd': 400}\n",
        "result = combine_dictionaries(d1, d2)\n",
        "print(\"Expected result:\", result)\n"
      ],
      "metadata": {
        "colab": {
          "base_uri": "https://localhost:8080/"
        },
        "id": "m9U5v6T11S0a",
        "outputId": "70bf6ce6-c7a2-41d6-ed7a-95a848528f0f"
      },
      "execution_count": 3,
      "outputs": [
        {
          "output_type": "stream",
          "name": "stdout",
          "text": [
            "Expected result: {'a': 400, 'b': 400, 'c': 300, 'd': 400}\n"
          ]
        }
      ]
    },
    {
      "cell_type": "code",
      "source": [
        "def generate_square_dictionary(n):\n",
        "    square_dict = {}\n",
        "    for i in range(1, n + 1):\n",
        "        square_dict[i] = i * i\n",
        "    return square_dict\n",
        "\n",
        "n = int(input(\"Enter a positive integer: \"))\n",
        "result = generate_square_dictionary(n)\n",
        "print(result)\n"
      ],
      "metadata": {
        "colab": {
          "base_uri": "https://localhost:8080/"
        },
        "id": "nDEfUkGA1oqx",
        "outputId": "57a68342-0b23-47d0-a60c-ee9211e47950"
      },
      "execution_count": 4,
      "outputs": [
        {
          "output_type": "stream",
          "name": "stdout",
          "text": [
            "Enter a positive integer: 8\n",
            "{1: 1, 2: 4, 3: 9, 4: 16, 5: 25, 6: 36, 7: 49, 8: 64}\n"
          ]
        }
      ]
    },
    {
      "cell_type": "code",
      "source": [
        "def sort_tuple_by_float_element(tuples_list):\n",
        "    # Sort the list based on the float value of the second element of each tuple\n",
        "    sorted_list = sorted(tuples_list, key=lambda x: float(x[1]), reverse=True)\n",
        "    return sorted_list\n",
        "\n",
        "tuples_list = [('item1', '12.20'), ('item2', '15.10'), ('item3', '24.5')]\n",
        "result = sort_tuple_by_float_element(tuples_list)\n",
        "print(\"Expected result:\", result)\n"
      ],
      "metadata": {
        "colab": {
          "base_uri": "https://localhost:8080/"
        },
        "id": "Hwnv9v4p12XY",
        "outputId": "09d1084c-107b-484f-b136-496eae4d60ff"
      },
      "execution_count": 6,
      "outputs": [
        {
          "output_type": "stream",
          "name": "stdout",
          "text": [
            "Expected result: [('item3', '24.5'), ('item2', '15.10'), ('item1', '12.20')]\n"
          ]
        }
      ]
    },
    {
      "cell_type": "code",
      "source": [
        "my_set = {0, 1, 2, 3, 4}\n",
        "print(my_set)\n"
      ],
      "metadata": {
        "colab": {
          "base_uri": "https://localhost:8080/"
        },
        "id": "op0PCRsE2WY6",
        "outputId": "a0e07741-e395-4bd0-960c-0b2a6e5621c4"
      },
      "execution_count": 7,
      "outputs": [
        {
          "output_type": "stream",
          "name": "stdout",
          "text": [
            "{0, 1, 2, 3, 4}\n"
          ]
        }
      ]
    },
    {
      "cell_type": "code",
      "source": [
        "my_set = {0, 1, 2, 3, 4}\n",
        "for item in my_set:\n",
        "    print(item)\n"
      ],
      "metadata": {
        "colab": {
          "base_uri": "https://localhost:8080/"
        },
        "id": "E0LoXZrh2hvG",
        "outputId": "690309b7-eb9f-4a28-8412-3dc21bc4a0bc"
      },
      "execution_count": 8,
      "outputs": [
        {
          "output_type": "stream",
          "name": "stdout",
          "text": [
            "0\n",
            "1\n",
            "2\n",
            "3\n",
            "4\n"
          ]
        }
      ]
    },
    {
      "cell_type": "code",
      "source": [
        "my_set = {0, 1, 2, 3, 4}\n",
        "# Adding a single element to the set\n",
        "my_set.add(5)\n",
        "print(my_set)\n",
        "\n",
        "# Adding multiple elements to the set using update() method\n",
        "my_set.update({6, 7, 8})\n",
        "print(my_set)\n"
      ],
      "metadata": {
        "colab": {
          "base_uri": "https://localhost:8080/"
        },
        "id": "AJK589wy2tKt",
        "outputId": "47bc2fc9-978d-4ad7-ccae-bf78f07469c6"
      },
      "execution_count": 9,
      "outputs": [
        {
          "output_type": "stream",
          "name": "stdout",
          "text": [
            "{0, 1, 2, 3, 4, 5}\n",
            "{0, 1, 2, 3, 4, 5, 6, 7, 8}\n"
          ]
        }
      ]
    },
    {
      "cell_type": "code",
      "source": [
        "my_set = {0, 1, 2, 3, 4}\n",
        "\n",
        "# Remove a specific element from the set using remove() method\n",
        "my_set.remove(3)\n",
        "print(my_set)\n",
        "\n",
        "# Remove a specific element from the set using discard() method (does not raise an error if the element is not found)\n",
        "my_set.discard(2)\n",
        "print(my_set)\n",
        "\n",
        "# Remove and return an arbitrary element from the set using pop() method\n",
        "popped_item = my_set.pop()\n",
        "print(\"Popped item:\", popped_item)\n",
        "print(my_set)\n",
        "\n",
        "# Clear the entire set using clear() method\n",
        "my_set.clear()\n",
        "print(my_set)\n"
      ],
      "metadata": {
        "colab": {
          "base_uri": "https://localhost:8080/"
        },
        "id": "4NAVobpR20Em",
        "outputId": "b22530b0-b75d-4895-a8d7-83339842bb0a"
      },
      "execution_count": 10,
      "outputs": [
        {
          "output_type": "stream",
          "name": "stdout",
          "text": [
            "{0, 1, 2, 4}\n",
            "{0, 1, 4}\n",
            "Popped item: 0\n",
            "{1, 4}\n",
            "set()\n"
          ]
        }
      ]
    }
  ]
}