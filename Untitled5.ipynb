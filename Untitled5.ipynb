{
  "nbformat": 4,
  "nbformat_minor": 0,
  "metadata": {
    "colab": {
      "provenance": [],
      "authorship_tag": "ABX9TyMRwCG9bOJ5DGyg4mUEW2fs",
      "include_colab_link": true
    },
    "kernelspec": {
      "name": "python3",
      "display_name": "Python 3"
    },
    "language_info": {
      "name": "python"
    }
  },
  "cells": [
    {
      "cell_type": "markdown",
      "metadata": {
        "id": "view-in-github",
        "colab_type": "text"
      },
      "source": [
        "<a href=\"https://colab.research.google.com/github/sademmhamdi/GoMyCode/blob/main/Untitled5.ipynb\" target=\"_parent\"><img src=\"https://colab.research.google.com/assets/colab-badge.svg\" alt=\"Open In Colab\"/></a>"
      ]
    },
    {
      "cell_type": "code",
      "execution_count": 1,
      "metadata": {
        "colab": {
          "base_uri": "https://localhost:8080/"
        },
        "id": "Y9qtoTF2UidA",
        "outputId": "55e72817-a3e1-45d0-9f77-cfbe7b9eb377"
      },
      "outputs": [
        {
          "output_type": "stream",
          "name": "stdout",
          "text": [
            "(1, 2, 3)\n"
          ]
        }
      ],
      "source": [
        "class Point3D:\n",
        "    def __init__(self, x, y, z):\n",
        "        self.x = x\n",
        "        self.y = y\n",
        "        self.z = z\n",
        "\n",
        "    def get_coordinates(self):\n",
        "        return (self.x, self.y, self.z)\n",
        "\n",
        "my_point = Point3D(1, 2, 3)\n",
        "\n",
        "print(my_point.get_coordinates())\n"
      ]
    },
    {
      "cell_type": "code",
      "source": [
        "class Rectangle:\n",
        "    def __init__(self, length, width):\n",
        "        self.length = length\n",
        "        self.width = width\n",
        "\n",
        "    def area(self):\n",
        "        return self.length * self.width\n",
        "\n",
        "    def perimeter(self):\n",
        "        return 2 * (self.length + self.width)\n",
        "\n",
        "my_rectangle = Rectangle(4, 3)\n",
        "\n",
        "print(\"Area:\", my_rectangle.area())\n",
        "print(\"Perimeter:\", my_rectangle.perimeter())\n"
      ],
      "metadata": {
        "colab": {
          "base_uri": "https://localhost:8080/"
        },
        "id": "6O-uabKzVWnp",
        "outputId": "6b7c94d6-c06e-49aa-83ff-3c3e6b5a5621"
      },
      "execution_count": 2,
      "outputs": [
        {
          "output_type": "stream",
          "name": "stdout",
          "text": [
            "Area: 12\n",
            "Perimeter: 14\n"
          ]
        }
      ]
    },
    {
      "cell_type": "code",
      "source": [
        "import math\n",
        "\n",
        "class Circle:\n",
        "    def __init__(self, center_x, center_y, radius):\n",
        "        self.center_x = center_x\n",
        "        self.center_y = center_y\n",
        "        self.radius = radius\n",
        "\n",
        "    def area(self):\n",
        "        return math.pi * self.radius**2\n",
        "\n",
        "    def perimeter(self):\n",
        "        return 2 * math.pi * self.radius\n",
        "\n",
        "    def is_inside(self, x, y):\n",
        "        distance = math.sqrt((x - self.center_x)**2 + (y - self.center_y)**2)\n",
        "        return distance <= self.radius\n",
        "\n",
        "my_circle = Circle(0, 0, 5)\n",
        "\n",
        "print(\"Area:\", my_circle.area())\n",
        "print(\"Perimeter:\", my_circle.perimeter())\n",
        "\n",
        "print(\"(1, 1) is inside the circle:\", my_circle.is_inside(1, 1))\n",
        "print(\"(6, 6) is inside the circle:\", my_circle.is_inside(6, 6))\n"
      ],
      "metadata": {
        "colab": {
          "base_uri": "https://localhost:8080/"
        },
        "id": "K_uaL6YSVrcd",
        "outputId": "308c392c-0d34-4ce9-a7af-036ce2731274"
      },
      "execution_count": 3,
      "outputs": [
        {
          "output_type": "stream",
          "name": "stdout",
          "text": [
            "Area: 78.53981633974483\n",
            "Perimeter: 31.41592653589793\n",
            "(1, 1) is inside the circle: True\n",
            "(6, 6) is inside the circle: False\n"
          ]
        }
      ]
    },
    {
      "cell_type": "code",
      "source": [
        "class Bank:\n",
        "    def __init__(self, balance):\n",
        "        self.balance = balance\n",
        "\n",
        "    def deposit(self, amount):\n",
        "        self.balance += amount\n",
        "\n",
        "    def withdraw(self, amount):\n",
        "        if amount <= self.balance:\n",
        "            self.balance -= amount\n",
        "        else:\n",
        "            print(\"Insufficient balance!\")\n",
        "\n",
        "my_bank = Bank(1000)\n",
        "\n",
        "my_bank.deposit(500)\n",
        "\n",
        "my_bank.withdraw(200)\n",
        "\n",
        "print(\"Current balance:\", my_bank.balance)\n"
      ],
      "metadata": {
        "colab": {
          "base_uri": "https://localhost:8080/"
        },
        "id": "CN-Xlm25V_Sp",
        "outputId": "475fcc2a-02a2-4248-ac38-f3c685e49f73"
      },
      "execution_count": 4,
      "outputs": [
        {
          "output_type": "stream",
          "name": "stdout",
          "text": [
            "Current balance: 1300\n"
          ]
        }
      ]
    }
  ]
}