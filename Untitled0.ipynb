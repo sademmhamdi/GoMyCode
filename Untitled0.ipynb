{
  "nbformat": 4,
  "nbformat_minor": 0,
  "metadata": {
    "colab": {
      "provenance": [],
      "authorship_tag": "ABX9TyPnHudAVBgVXi8Mi5h8Vjmu",
      "include_colab_link": true
    },
    "kernelspec": {
      "name": "python3",
      "display_name": "Python 3"
    },
    "language_info": {
      "name": "python"
    }
  },
  "cells": [
    {
      "cell_type": "markdown",
      "metadata": {
        "id": "view-in-github",
        "colab_type": "text"
      },
      "source": [
        "<a href=\"https://colab.research.google.com/github/sademmhamdi/GoMyCode/blob/main/Untitled0.ipynb\" target=\"_parent\"><img src=\"https://colab.research.google.com/assets/colab-badge.svg\" alt=\"Open In Colab\"/></a>"
      ]
    },
    {
      "cell_type": "code",
      "execution_count": 1,
      "metadata": {
        "colab": {
          "base_uri": "https://localhost:8080/"
        },
        "id": "erE1DUqGe1a4",
        "outputId": "33ebd02c-d530-4fc6-822a-8974299f5dee"
      },
      "outputs": [
        {
          "output_type": "stream",
          "name": "stdout",
          "text": [
            "Welcome to the Guess the Number game!\n",
            "I'm thinking of a number between 1 and 100. Can you guess what it is?\n",
            "Enter your guess: 6\n",
            "Your guess is too low. Guess again.\n",
            "Enter your guess: 78\n",
            "Your guess is too high. Guess again.\n",
            "Enter your guess: 50\n",
            "Your guess is too high. Guess again.\n",
            "Enter your guess: 13\n",
            "Your guess is too low. Guess again.\n",
            "Enter your guess: 27\n",
            "Your guess is too high. Guess again.\n",
            "Enter your guess: 19\n",
            "Your guess is too high. Guess again.\n",
            "Enter your guess: 15\n",
            "Your guess is too low. Guess again.\n",
            "Enter your guess: 17\n",
            "Your guess is too high. Guess again.\n",
            "Enter your guess: 16\n",
            "\n",
            "Congratulations! You guessed the number correctly!\n",
            "\n",
            "You took 9 attempts to guess the number.\n"
          ]
        }
      ],
      "source": [
        "import random\n",
        "\n",
        "def guess_the_number():\n",
        "    print(\"Welcome to the Guess the Number game!\")\n",
        "    print(\"I'm thinking of a number between 1 and 100. Can you guess what it is?\")\n",
        "\n",
        "    secret_number = random.randint(1, 100)\n",
        "\n",
        "    attempts = 0\n",
        "\n",
        "    while True:\n",
        "        try:\n",
        "            guess = int(input(\"Enter your guess: \"))\n",
        "\n",
        "            attempts += 1\n",
        "\n",
        "            if guess == secret_number:\n",
        "                print(\"\\nCongratulations! You guessed the number correctly!\")\n",
        "                break\n",
        "            elif guess < secret_number:\n",
        "                print(\"Your guess is too low. Guess again.\")\n",
        "            else:\n",
        "                print(\"Your guess is too high. Guess again.\")\n",
        "        except ValueError:\n",
        "            print(\"Invalid input! Please enter a valid number.\")\n",
        "\n",
        "    print(f\"\\nYou took {attempts} attempts to guess the number.\")\n",
        "\n",
        "if __name__ == \"__main__\":\n",
        "    guess_the_number()\n"
      ]
    }
  ]
}